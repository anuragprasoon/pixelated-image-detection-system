{
  "cells": [
    {
      "cell_type": "code",
      "execution_count": null,
      "metadata": {
        "colab": {
          "base_uri": "https://localhost:8080/"
        },
        "collapsed": true,
        "id": "6ejysTi902G1",
        "outputId": "279d559a-6a85-4bc8-993c-04d8c5980c65"
      },
      "outputs": [
        {
          "name": "stdout",
          "output_type": "stream",
          "text": [
            "Requirement already satisfied: tensorflow in /usr/local/lib/python3.10/dist-packages (2.15.0)\n",
            "Collecting tensorflow-gpu\n",
            "  Downloading tensorflow-gpu-2.12.0.tar.gz (2.6 kB)\n",
            "  \u001b[1;31merror\u001b[0m: \u001b[1msubprocess-exited-with-error\u001b[0m\n",
            "  \n",
            "  \u001b[31m×\u001b[0m \u001b[32mpython setup.py egg_info\u001b[0m did not run successfully.\n",
            "  \u001b[31m│\u001b[0m exit code: \u001b[1;36m1\u001b[0m\n",
            "  \u001b[31m╰─>\u001b[0m See above for output.\n",
            "  \n",
            "  \u001b[1;35mnote\u001b[0m: This error originates from a subprocess, and is likely not a problem with pip.\n",
            "  Preparing metadata (setup.py) ... \u001b[?25l\u001b[?25herror\n",
            "\u001b[1;31merror\u001b[0m: \u001b[1mmetadata-generation-failed\u001b[0m\n",
            "\n",
            "\u001b[31m×\u001b[0m Encountered error while generating package metadata.\n",
            "\u001b[31m╰─>\u001b[0m See above for output.\n",
            "\n",
            "\u001b[1;35mnote\u001b[0m: This is an issue with the package mentioned above, not pip.\n",
            "\u001b[1;36mhint\u001b[0m: See above for details.\n"
          ]
        }
      ],
      "source": [
        "!pip install tensorflow tensorflow-gpu opencv-python matplotlib"
      ]
    },
    {
      "cell_type": "code",
      "execution_count": null,
      "metadata": {
        "colab": {
          "base_uri": "https://localhost:8080/"
        },
        "id": "D-hK-BQn26VU",
        "outputId": "a3d20458-6bd3-4380-acce-13d8328d700a"
      },
      "outputs": [
        {
          "name": "stdout",
          "output_type": "stream",
          "text": [
            "Drive already mounted at /content/drive; to attempt to forcibly remount, call drive.mount(\"/content/drive\", force_remount=True).\n"
          ]
        }
      ],
      "source": [
        "import tensorflow as tf\n",
        "import numpy as np\n",
        "from matplotlib import pyplot as plt\n",
        "import os\n",
        "from google.colab import drive\n",
        "drive.mount('/content/drive')"
      ]
    },
    {
      "cell_type": "code",
      "execution_count": null,
      "metadata": {
        "id": "lNryOVFC3D2h"
      },
      "outputs": [],
      "source": [
        "gpus=tf.config.experimental.list_physical_devices('GPU')\n",
        "for gpu in gpus:\n",
        "  tf.config.experimental.set_memory_growth(gpu,True)"
      ]
    },
    {
      "cell_type": "code",
      "execution_count": null,
      "metadata": {
        "colab": {
          "base_uri": "https://localhost:8080/"
        },
        "id": "YlnIxRZO8_Is",
        "outputId": "b53a43c7-c852-4a81-c295-410977b733ba"
      },
      "outputs": [
        {
          "name": "stdout",
          "output_type": "stream",
          "text": [
            "Found 330 files belonging to 2 classes.\n",
            "Using 264 files for training.\n",
            "Found 330 files belonging to 2 classes.\n",
            "Using 66 files for validation.\n"
          ]
        }
      ],
      "source": [
        "batch_size = 32\n",
        "img_height = 500\n",
        "img_width = 500\n",
        "filepath='/content/drive/MyDrive/PrasoonCodes/dataset'\n",
        "#trainig dataset\n",
        "train_ds = tf.keras.utils.image_dataset_from_directory(\n",
        "  filepath,\n",
        "  validation_split=0.2,\n",
        "  subset=\"training\",\n",
        "  seed=123,\n",
        "  image_size=(img_height, img_width),\n",
        "  batch_size=batch_size,)\n",
        "\n",
        "#validation set\n",
        "val_ds = tf.keras.utils.image_dataset_from_directory(\n",
        "  filepath,\n",
        "  validation_split=0.2,\n",
        "  subset=\"validation\",\n",
        "  seed=123,\n",
        "  image_size=(img_height, img_width),\n",
        "  batch_size=batch_size,)\n"
      ]
    },
    {
      "cell_type": "code",
      "execution_count": null,
      "metadata": {
        "colab": {
          "base_uri": "https://localhost:8080/",
          "height": 70
        },
        "id": "v19DqDDL9t4n",
        "outputId": "c45a5c62-e0c0-4746-9a62-755412667fa1"
      },
      "outputs": [
        {
          "data": {
            "application/vnd.google.colaboratory.intrinsic+json": {
              "type": "string"
            },
            "text/plain": [
              "'plt.figure(figsize=(10, 10))\\nfor images, labels in train_ds.take(1):\\n  for i in range(9):\\n    ax = plt.subplot(3, 3, i + 1)\\n    plt.imshow(images[i].numpy().astype(\"uint8\"))\\n    plt.title(class_names[labels[i]])\\n    plt.axis(\"off\")'"
            ]
          },
          "execution_count": 4,
          "metadata": {},
          "output_type": "execute_result"
        }
      ],
      "source": [
        "#Visualizing the dataset\n",
        "class_names = train_ds.class_names\n",
        "'''plt.figure(figsize=(10, 10))\n",
        "for images, labels in train_ds.take(1):\n",
        "  for i in range(9):\n",
        "    ax = plt.subplot(3, 3, i + 1)\n",
        "    plt.imshow(images[i].numpy().astype(\"uint8\"))\n",
        "    plt.title(class_names[labels[i]])\n",
        "    plt.axis(\"off\")'''"
      ]
    },
    {
      "cell_type": "code",
      "execution_count": null,
      "metadata": {
        "id": "6v_eT9kZ-m0c"
      },
      "outputs": [],
      "source": [
        "#Caching the dataset\n",
        "AUTOTUNE = tf.data.AUTOTUNE\n",
        "\n",
        "train_ds = train_ds.cache().shuffle(1000).prefetch(buffer_size=AUTOTUNE)\n",
        "val_ds = val_ds.cache().prefetch(buffer_size=AUTOTUNE)"
      ]
    },
    {
      "cell_type": "code",
      "execution_count": null,
      "metadata": {
        "colab": {
          "base_uri": "https://localhost:8080/",
          "height": 70
        },
        "id": "jm35vItPZ2Uh",
        "outputId": "7e154e36-32a8-425c-b738-51340b61e121"
      },
      "outputs": [
        {
          "data": {
            "application/vnd.google.colaboratory.intrinsic+json": {
              "type": "string"
            },
            "text/plain": [
              "'plt.figure(figsize=(10, 10))\\nfor images, _ in train_ds.take(1):\\n  for i in range(9):\\n    augmented_images = data_augmentation(images)\\n    ax = plt.subplot(3, 3, i + 1)\\n    plt.imshow(augmented_images[0].numpy().astype(\"uint8\"))\\n    plt.axis(\"off\")'"
            ]
          },
          "execution_count": 6,
          "metadata": {},
          "output_type": "execute_result"
        }
      ],
      "source": [
        "#data augmentation\n",
        "from tensorflow.keras import *\n",
        "data_augmentation = Sequential(\n",
        "  [\n",
        "    layers.RandomFlip(\"horizontal\",\n",
        "                      input_shape=(img_height,\n",
        "                                  img_width,\n",
        "                                  3)),\n",
        "    layers.RandomRotation(0.1),\n",
        "    layers.RandomZoom(0.1),\n",
        "  ]\n",
        ")\n",
        "\n",
        "#visualizing the data augmentation\n",
        "'''plt.figure(figsize=(10, 10))\n",
        "for images, _ in train_ds.take(1):\n",
        "  for i in range(9):\n",
        "    augmented_images = data_augmentation(images)\n",
        "    ax = plt.subplot(3, 3, i + 1)\n",
        "    plt.imshow(augmented_images[0].numpy().astype(\"uint8\"))\n",
        "    plt.axis(\"off\")'''"
      ]
    },
    {
      "cell_type": "code",
      "execution_count": null,
      "metadata": {
        "colab": {
          "base_uri": "https://localhost:8080/"
        },
        "id": "AK7CSR40-ui6",
        "outputId": "51d98d5c-1263-43a6-c6e9-ac53a051ad77"
      },
      "outputs": [
        {
          "name": "stdout",
          "output_type": "stream",
          "text": [
            "0.04658989 0.87843144\n"
          ]
        }
      ],
      "source": [
        "#standarizing the data into 0 n 1s\n",
        "normalization_layer = layers.Rescaling(1./255)\n",
        "normalized_ds = train_ds.map(lambda x, y: (normalization_layer(x), y))\n",
        "image_batch, labels_batch = next(iter(normalized_ds))\n",
        "first_image = image_batch[0]\n",
        "print(np.min(first_image), np.max(first_image))"
      ]
    },
    {
      "cell_type": "code",
      "execution_count": null,
      "metadata": {
        "id": "-_TnIpsoCDsx"
      },
      "outputs": [],
      "source": [
        "#creating the model\n",
        "num_classes = len(class_names)\n",
        "model = Sequential([\n",
        "  data_augmentation,\n",
        "  layers.Rescaling(1./255, input_shape=(img_height, img_width, 3)),\n",
        "  layers.Conv2D(16, 3, padding='same', activation='relu'),\n",
        "  layers.MaxPooling2D(),\n",
        "  layers.Conv2D(32, 3, padding='same', activation='relu'),\n",
        "  layers.MaxPooling2D(),\n",
        "  layers.Conv2D(64, 3, padding='same', activation='relu'),\n",
        "  layers.MaxPooling2D(),\n",
        "  layers.Flatten(),\n",
        "  layers.Dense(128, activation='relu'),\n",
        "  layers.Dense(num_classes)\n",
        "])"
      ]
    },
    {
      "cell_type": "code",
      "execution_count": null,
      "metadata": {
        "id": "VKQPVeO8DQny"
      },
      "outputs": [],
      "source": [
        "#model complie\n",
        "model.compile(optimizer='adam',\n",
        "              loss=tf.keras.losses.SparseCategoricalCrossentropy(from_logits=True),\n",
        "              metrics=['accuracy'])"
      ]
    },
    {
      "cell_type": "code",
      "execution_count": null,
      "metadata": {
        "colab": {
          "base_uri": "https://localhost:8080/"
        },
        "id": "fmEGp6wNDuSU",
        "outputId": "16942668-8ade-4f79-8f5c-cc04f61c83d1"
      },
      "outputs": [
        {
          "name": "stdout",
          "output_type": "stream",
          "text": [
            "Model: \"sequential_1\"\n",
            "_________________________________________________________________\n",
            " Layer (type)                Output Shape              Param #   \n",
            "=================================================================\n",
            " sequential (Sequential)     (None, 500, 500, 3)       0         \n",
            "                                                                 \n",
            " rescaling_1 (Rescaling)     (None, 500, 500, 3)       0         \n",
            "                                                                 \n",
            " conv2d (Conv2D)             (None, 500, 500, 16)      448       \n",
            "                                                                 \n",
            " max_pooling2d (MaxPooling2  (None, 250, 250, 16)      0         \n",
            " D)                                                              \n",
            "                                                                 \n",
            " conv2d_1 (Conv2D)           (None, 250, 250, 32)      4640      \n",
            "                                                                 \n",
            " max_pooling2d_1 (MaxPoolin  (None, 125, 125, 32)      0         \n",
            " g2D)                                                            \n",
            "                                                                 \n",
            " conv2d_2 (Conv2D)           (None, 125, 125, 64)      18496     \n",
            "                                                                 \n",
            " max_pooling2d_2 (MaxPoolin  (None, 62, 62, 64)        0         \n",
            " g2D)                                                            \n",
            "                                                                 \n",
            " flatten (Flatten)           (None, 246016)            0         \n",
            "                                                                 \n",
            " dense (Dense)               (None, 128)               31490176  \n",
            "                                                                 \n",
            " dense_1 (Dense)             (None, 2)                 258       \n",
            "                                                                 \n",
            "=================================================================\n",
            "Total params: 31514018 (120.22 MB)\n",
            "Trainable params: 31514018 (120.22 MB)\n",
            "Non-trainable params: 0 (0.00 Byte)\n",
            "_________________________________________________________________\n"
          ]
        }
      ],
      "source": [
        "model.summary()"
      ]
    },
    {
      "cell_type": "code",
      "execution_count": null,
      "metadata": {
        "colab": {
          "background_save": true,
          "base_uri": "https://localhost:8080/"
        },
        "id": "ta-W3JnZrUH5",
        "outputId": "da8205ef-dd0f-4e9f-9602-b72536403ea1"
      },
      "outputs": [
        {
          "name": "stdout",
          "output_type": "stream",
          "text": [
            "Epoch 1/10\n",
            "9/9 [==============================] - 104s 11s/step - loss: 10.8771 - accuracy: 0.5114 - val_loss: 0.7251 - val_accuracy: 0.5606\n",
            "Epoch 2/10\n",
            "9/9 [==============================] - 86s 9s/step - loss: 0.7217 - accuracy: 0.4811 - val_loss: 0.6923 - val_accuracy: 0.5303\n",
            "Epoch 3/10\n",
            "9/9 [==============================] - 86s 9s/step - loss: 0.6931 - accuracy: 0.4811 - val_loss: 0.6927 - val_accuracy: 0.5455\n",
            "Epoch 4/10\n",
            "9/9 [==============================] - 92s 10s/step - loss: 0.6929 - accuracy: 0.4848 - val_loss: 0.6920 - val_accuracy: 0.5455\n",
            "Epoch 5/10\n",
            "9/9 [==============================] - 90s 10s/step - loss: 0.6938 - accuracy: 0.4811 - val_loss: 0.6971 - val_accuracy: 0.4394\n",
            "Epoch 6/10\n",
            "9/9 [==============================] - 87s 10s/step - loss: 0.6933 - accuracy: 0.5000 - val_loss: 0.6896 - val_accuracy: 0.5152\n",
            "Epoch 7/10\n",
            "9/9 [==============================] - 85s 10s/step - loss: 0.6909 - accuracy: 0.4962 - val_loss: 0.6882 - val_accuracy: 0.5606\n",
            "Epoch 8/10\n",
            "9/9 [==============================] - 84s 9s/step - loss: 0.6930 - accuracy: 0.5303 - val_loss: 0.6986 - val_accuracy: 0.5152\n",
            "Epoch 9/10\n",
            "9/9 [==============================] - 87s 10s/step - loss: 0.6947 - accuracy: 0.5568 - val_loss: 1.0920 - val_accuracy: 0.4394\n",
            "Epoch 10/10\n",
            "9/9 [==============================] - 96s 12s/step - loss: 0.6948 - accuracy: 0.5379 - val_loss: 0.6583 - val_accuracy: 0.5758\n"
          ]
        }
      ],
      "source": [
        "#training\n",
        "epochs=10\n",
        "history = model.fit(\n",
        "  train_ds,\n",
        "  validation_data=val_ds,\n",
        "  epochs=epochs\n",
        ")"
      ]
    },
    {
      "cell_type": "code",
      "execution_count": 12,
      "metadata": {
        "colab": {
          "base_uri": "https://localhost:8080/",
          "height": 699
        },
        "id": "DGJ7WiLHI4Ne",
        "outputId": "0804556b-3295-4e56-e307-af08cc963e60"
      },
      "outputs": [
        {
          "output_type": "display_data",
          "data": {
            "text/plain": [
              "<Figure size 800x800 with 2 Axes>"
            ],
            "image/png": "[encoded data removed]"
          },
          "metadata": {}
        }
      ],
      "source": [
        "#visualizing\n",
        "acc = history.history['accuracy']\n",
        "val_acc = history.history['val_accuracy']\n",
        "\n",
        "loss = history.history['loss']\n",
        "val_loss = history.history['val_loss']\n",
        "\n",
        "epochs_range = range(epochs)\n",
        "\n",
        "plt.figure(figsize=(8, 8))\n",
        "plt.subplot(1, 2, 1)\n",
        "plt.plot(epochs_range, acc, label='Training Accuracy')\n",
        "plt.plot(epochs_range, val_acc, label='Validation Accuracy')\n",
        "plt.legend(loc='lower right')\n",
        "plt.title('Training and Validation Accuracy')\n",
        "\n",
        "plt.subplot(1, 2, 2)\n",
        "plt.plot(epochs_range, loss, label='Training Loss')\n",
        "plt.plot(epochs_range, val_loss, label='Validation Loss')\n",
        "plt.legend(loc='upper right')\n",
        "plt.title('Training and Validation Loss')\n",
        "plt.show()"
      ]
    },
    {
      "cell_type": "code",
      "execution_count": 13,
      "metadata": {
        "colab": {
          "base_uri": "https://localhost:8080/"
        },
        "id": "PeDI18KZI9gZ",
        "outputId": "2d351cc7-07b4-4500-9ad2-22db3116cdc5"
      },
      "outputs": [
        {
          "output_type": "stream",
          "name": "stdout",
          "text": [
            "1/1 [==============================] - 0s 392ms/step\n",
            "This image most likely Non-Pixelated with a 54.25 percent confidence.\n"
          ]
        }
      ],
      "source": [
        "img = tf.keras.utils.load_img('/content/drive/MyDrive/PrasoonCodes/dataset/Non-Pixelated/animals/Animal8.jpg', target_size=(500, 500)\n",
        ")\n",
        "img_array = tf.keras.utils.img_to_array(img)\n",
        "img_array = tf.expand_dims(img_array, 0) # Create a batch\n",
        "\n",
        "predictions = model.predict(img_array)\n",
        "score = tf.nn.softmax(predictions[0])\n",
        "\n",
        "print(\n",
        "    \"This image most likely {} with a {:.2f} percent confidence.\"\n",
        "    .format(class_names[np.argmax(score)], 100 * np.max(score))\n",
        ")"
      ]
    },
    {
      "cell_type": "code",
      "execution_count": 15,
      "metadata": {
        "id": "CazxwJs8iSGC"
      },
      "outputs": [],
      "source": [
        "#saving the model\n",
        "model.save('pixelatedimgdetection.keras')"
      ]
    }
  ],
  "metadata": {
    "colab": {
      "provenance": []
    },
    "kernelspec": {
      "display_name": "Python 3",
      "name": "python3"
    },
    "language_info": {
      "name": "python"
    }
  },
  "nbformat": 4,
  "nbformat_minor": 0
}